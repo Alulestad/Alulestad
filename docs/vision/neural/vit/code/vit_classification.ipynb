{
  "cells": [
    {
      "cell_type": "markdown",
      "metadata": {
        "id": "view-in-github",
        "colab_type": "text"
      },
      "source": [
        "<a href=\"https://colab.research.google.com/github/Alulestad/Alulestad/blob/main/docs/vision/neural/vit/code/vit_classification.ipynb\" target=\"_parent\"><img src=\"https://colab.research.google.com/assets/colab-badge.svg\" alt=\"Open In Colab\"/></a>"
      ]
    },
    {
      "cell_type": "markdown",
      "metadata": {
        "id": "-WXqA_23DfeC"
      },
      "source": [
        "Modelo de clasificación de imágenes usando ViT\n",
        "=============================================="
      ]
    },
    {
      "cell_type": "markdown",
      "metadata": {
        "id": "j3576kEYCwpp"
      },
      "source": [
        "## Introducción"
      ]
    },
    {
      "cell_type": "markdown",
      "metadata": {
        "id": "o-aoxMmlCwpp"
      },
      "source": [
        "Los modelos basados en transformers para visión han demostrado ser ampliamente potentes en régimenes donde la cantidad de datos es suficiente, a pesar de no tener sezgo inductivo presente en su arquitectura.\n",
        "\n",
        "En este ejemplo veremos cómo podemos utilizar un modelo de este tipo para resolver un problema de clasificación de imágenes."
      ]
    },
    {
      "cell_type": "markdown",
      "metadata": {
        "id": "TghjzJl0wKId"
      },
      "source": [
        "### Preparación del ambiente"
      ]
    },
    {
      "cell_type": "markdown",
      "metadata": {
        "id": "Ez9d-jEjDfeV"
      },
      "source": [
        "Intalamos las librerias necesarias"
      ]
    },
    {
      "cell_type": "code",
      "execution_count": 1,
      "metadata": {
        "id": "3aeyeq_2FzX6"
      },
      "outputs": [],
      "source": [
        "!pip install -q transformers datasets --quiet"
      ]
    },
    {
      "cell_type": "code",
      "source": [
        "!pip install datasets"
      ],
      "metadata": {
        "colab": {
          "base_uri": "https://localhost:8080/"
        },
        "id": "WiyX95-0h0S9",
        "outputId": "f3153321-fdb0-43ea-fbd9-361aa741ef06"
      },
      "execution_count": 2,
      "outputs": [
        {
          "output_type": "stream",
          "name": "stdout",
          "text": [
            "Requirement already satisfied: datasets in /usr/local/lib/python3.11/dist-packages (3.6.0)\n",
            "Requirement already satisfied: filelock in /usr/local/lib/python3.11/dist-packages (from datasets) (3.18.0)\n",
            "Requirement already satisfied: numpy>=1.17 in /usr/local/lib/python3.11/dist-packages (from datasets) (2.0.2)\n",
            "Requirement already satisfied: pyarrow>=15.0.0 in /usr/local/lib/python3.11/dist-packages (from datasets) (18.1.0)\n",
            "Requirement already satisfied: dill<0.3.9,>=0.3.0 in /usr/local/lib/python3.11/dist-packages (from datasets) (0.3.7)\n",
            "Requirement already satisfied: pandas in /usr/local/lib/python3.11/dist-packages (from datasets) (2.2.2)\n",
            "Requirement already satisfied: requests>=2.32.2 in /usr/local/lib/python3.11/dist-packages (from datasets) (2.32.3)\n",
            "Requirement already satisfied: tqdm>=4.66.3 in /usr/local/lib/python3.11/dist-packages (from datasets) (4.67.1)\n",
            "Requirement already satisfied: xxhash in /usr/local/lib/python3.11/dist-packages (from datasets) (3.5.0)\n",
            "Requirement already satisfied: multiprocess<0.70.17 in /usr/local/lib/python3.11/dist-packages (from datasets) (0.70.15)\n",
            "Requirement already satisfied: fsspec<=2025.3.0,>=2023.1.0 in /usr/local/lib/python3.11/dist-packages (from fsspec[http]<=2025.3.0,>=2023.1.0->datasets) (2025.3.0)\n",
            "Requirement already satisfied: huggingface-hub>=0.24.0 in /usr/local/lib/python3.11/dist-packages (from datasets) (0.31.2)\n",
            "Requirement already satisfied: packaging in /usr/local/lib/python3.11/dist-packages (from datasets) (24.2)\n",
            "Requirement already satisfied: pyyaml>=5.1 in /usr/local/lib/python3.11/dist-packages (from datasets) (6.0.2)\n",
            "Requirement already satisfied: aiohttp!=4.0.0a0,!=4.0.0a1 in /usr/local/lib/python3.11/dist-packages (from fsspec[http]<=2025.3.0,>=2023.1.0->datasets) (3.11.15)\n",
            "Requirement already satisfied: typing-extensions>=3.7.4.3 in /usr/local/lib/python3.11/dist-packages (from huggingface-hub>=0.24.0->datasets) (4.13.2)\n",
            "Requirement already satisfied: charset-normalizer<4,>=2 in /usr/local/lib/python3.11/dist-packages (from requests>=2.32.2->datasets) (3.4.2)\n",
            "Requirement already satisfied: idna<4,>=2.5 in /usr/local/lib/python3.11/dist-packages (from requests>=2.32.2->datasets) (3.10)\n",
            "Requirement already satisfied: urllib3<3,>=1.21.1 in /usr/local/lib/python3.11/dist-packages (from requests>=2.32.2->datasets) (2.4.0)\n",
            "Requirement already satisfied: certifi>=2017.4.17 in /usr/local/lib/python3.11/dist-packages (from requests>=2.32.2->datasets) (2025.4.26)\n",
            "Requirement already satisfied: python-dateutil>=2.8.2 in /usr/local/lib/python3.11/dist-packages (from pandas->datasets) (2.9.0.post0)\n",
            "Requirement already satisfied: pytz>=2020.1 in /usr/local/lib/python3.11/dist-packages (from pandas->datasets) (2025.2)\n",
            "Requirement already satisfied: tzdata>=2022.7 in /usr/local/lib/python3.11/dist-packages (from pandas->datasets) (2025.2)\n",
            "Requirement already satisfied: aiohappyeyeballs>=2.3.0 in /usr/local/lib/python3.11/dist-packages (from aiohttp!=4.0.0a0,!=4.0.0a1->fsspec[http]<=2025.3.0,>=2023.1.0->datasets) (2.6.1)\n",
            "Requirement already satisfied: aiosignal>=1.1.2 in /usr/local/lib/python3.11/dist-packages (from aiohttp!=4.0.0a0,!=4.0.0a1->fsspec[http]<=2025.3.0,>=2023.1.0->datasets) (1.3.2)\n",
            "Requirement already satisfied: attrs>=17.3.0 in /usr/local/lib/python3.11/dist-packages (from aiohttp!=4.0.0a0,!=4.0.0a1->fsspec[http]<=2025.3.0,>=2023.1.0->datasets) (25.3.0)\n",
            "Requirement already satisfied: frozenlist>=1.1.1 in /usr/local/lib/python3.11/dist-packages (from aiohttp!=4.0.0a0,!=4.0.0a1->fsspec[http]<=2025.3.0,>=2023.1.0->datasets) (1.6.0)\n",
            "Requirement already satisfied: multidict<7.0,>=4.5 in /usr/local/lib/python3.11/dist-packages (from aiohttp!=4.0.0a0,!=4.0.0a1->fsspec[http]<=2025.3.0,>=2023.1.0->datasets) (6.4.3)\n",
            "Requirement already satisfied: propcache>=0.2.0 in /usr/local/lib/python3.11/dist-packages (from aiohttp!=4.0.0a0,!=4.0.0a1->fsspec[http]<=2025.3.0,>=2023.1.0->datasets) (0.3.1)\n",
            "Requirement already satisfied: yarl<2.0,>=1.17.0 in /usr/local/lib/python3.11/dist-packages (from aiohttp!=4.0.0a0,!=4.0.0a1->fsspec[http]<=2025.3.0,>=2023.1.0->datasets) (1.20.0)\n",
            "Requirement already satisfied: six>=1.5 in /usr/local/lib/python3.11/dist-packages (from python-dateutil>=2.8.2->pandas->datasets) (1.17.0)\n"
          ]
        }
      ]
    },
    {
      "cell_type": "code",
      "source": [
        "!pip install --upgrade datasets"
      ],
      "metadata": {
        "colab": {
          "base_uri": "https://localhost:8080/"
        },
        "id": "5gtYp3u4iftf",
        "outputId": "959a89e5-fc5e-4584-f998-66dd94bcfa1b"
      },
      "execution_count": 3,
      "outputs": [
        {
          "output_type": "stream",
          "name": "stdout",
          "text": [
            "Requirement already satisfied: datasets in /usr/local/lib/python3.11/dist-packages (3.6.0)\n",
            "Requirement already satisfied: filelock in /usr/local/lib/python3.11/dist-packages (from datasets) (3.18.0)\n",
            "Requirement already satisfied: numpy>=1.17 in /usr/local/lib/python3.11/dist-packages (from datasets) (2.0.2)\n",
            "Requirement already satisfied: pyarrow>=15.0.0 in /usr/local/lib/python3.11/dist-packages (from datasets) (18.1.0)\n",
            "Requirement already satisfied: dill<0.3.9,>=0.3.0 in /usr/local/lib/python3.11/dist-packages (from datasets) (0.3.7)\n",
            "Requirement already satisfied: pandas in /usr/local/lib/python3.11/dist-packages (from datasets) (2.2.2)\n",
            "Requirement already satisfied: requests>=2.32.2 in /usr/local/lib/python3.11/dist-packages (from datasets) (2.32.3)\n",
            "Requirement already satisfied: tqdm>=4.66.3 in /usr/local/lib/python3.11/dist-packages (from datasets) (4.67.1)\n",
            "Requirement already satisfied: xxhash in /usr/local/lib/python3.11/dist-packages (from datasets) (3.5.0)\n",
            "Requirement already satisfied: multiprocess<0.70.17 in /usr/local/lib/python3.11/dist-packages (from datasets) (0.70.15)\n",
            "Requirement already satisfied: fsspec<=2025.3.0,>=2023.1.0 in /usr/local/lib/python3.11/dist-packages (from fsspec[http]<=2025.3.0,>=2023.1.0->datasets) (2025.3.0)\n",
            "Requirement already satisfied: huggingface-hub>=0.24.0 in /usr/local/lib/python3.11/dist-packages (from datasets) (0.31.2)\n",
            "Requirement already satisfied: packaging in /usr/local/lib/python3.11/dist-packages (from datasets) (24.2)\n",
            "Requirement already satisfied: pyyaml>=5.1 in /usr/local/lib/python3.11/dist-packages (from datasets) (6.0.2)\n",
            "Requirement already satisfied: aiohttp!=4.0.0a0,!=4.0.0a1 in /usr/local/lib/python3.11/dist-packages (from fsspec[http]<=2025.3.0,>=2023.1.0->datasets) (3.11.15)\n",
            "Requirement already satisfied: typing-extensions>=3.7.4.3 in /usr/local/lib/python3.11/dist-packages (from huggingface-hub>=0.24.0->datasets) (4.13.2)\n",
            "Requirement already satisfied: charset-normalizer<4,>=2 in /usr/local/lib/python3.11/dist-packages (from requests>=2.32.2->datasets) (3.4.2)\n",
            "Requirement already satisfied: idna<4,>=2.5 in /usr/local/lib/python3.11/dist-packages (from requests>=2.32.2->datasets) (3.10)\n",
            "Requirement already satisfied: urllib3<3,>=1.21.1 in /usr/local/lib/python3.11/dist-packages (from requests>=2.32.2->datasets) (2.4.0)\n",
            "Requirement already satisfied: certifi>=2017.4.17 in /usr/local/lib/python3.11/dist-packages (from requests>=2.32.2->datasets) (2025.4.26)\n",
            "Requirement already satisfied: python-dateutil>=2.8.2 in /usr/local/lib/python3.11/dist-packages (from pandas->datasets) (2.9.0.post0)\n",
            "Requirement already satisfied: pytz>=2020.1 in /usr/local/lib/python3.11/dist-packages (from pandas->datasets) (2025.2)\n",
            "Requirement already satisfied: tzdata>=2022.7 in /usr/local/lib/python3.11/dist-packages (from pandas->datasets) (2025.2)\n",
            "Requirement already satisfied: aiohappyeyeballs>=2.3.0 in /usr/local/lib/python3.11/dist-packages (from aiohttp!=4.0.0a0,!=4.0.0a1->fsspec[http]<=2025.3.0,>=2023.1.0->datasets) (2.6.1)\n",
            "Requirement already satisfied: aiosignal>=1.1.2 in /usr/local/lib/python3.11/dist-packages (from aiohttp!=4.0.0a0,!=4.0.0a1->fsspec[http]<=2025.3.0,>=2023.1.0->datasets) (1.3.2)\n",
            "Requirement already satisfied: attrs>=17.3.0 in /usr/local/lib/python3.11/dist-packages (from aiohttp!=4.0.0a0,!=4.0.0a1->fsspec[http]<=2025.3.0,>=2023.1.0->datasets) (25.3.0)\n",
            "Requirement already satisfied: frozenlist>=1.1.1 in /usr/local/lib/python3.11/dist-packages (from aiohttp!=4.0.0a0,!=4.0.0a1->fsspec[http]<=2025.3.0,>=2023.1.0->datasets) (1.6.0)\n",
            "Requirement already satisfied: multidict<7.0,>=4.5 in /usr/local/lib/python3.11/dist-packages (from aiohttp!=4.0.0a0,!=4.0.0a1->fsspec[http]<=2025.3.0,>=2023.1.0->datasets) (6.4.3)\n",
            "Requirement already satisfied: propcache>=0.2.0 in /usr/local/lib/python3.11/dist-packages (from aiohttp!=4.0.0a0,!=4.0.0a1->fsspec[http]<=2025.3.0,>=2023.1.0->datasets) (0.3.1)\n",
            "Requirement already satisfied: yarl<2.0,>=1.17.0 in /usr/local/lib/python3.11/dist-packages (from aiohttp!=4.0.0a0,!=4.0.0a1->fsspec[http]<=2025.3.0,>=2023.1.0->datasets) (1.20.0)\n",
            "Requirement already satisfied: six>=1.5 in /usr/local/lib/python3.11/dist-packages (from python-dateutil>=2.8.2->pandas->datasets) (1.17.0)\n"
          ]
        }
      ]
    },
    {
      "cell_type": "markdown",
      "metadata": {
        "id": "avCIgEVTCwpt"
      },
      "source": [
        "### Sobre el conjunto de datos de este ejemplo"
      ]
    },
    {
      "cell_type": "markdown",
      "metadata": {
        "id": "ZJ1mR6CBCwpt"
      },
      "source": [
        "Para ejemplificar esta técnica utilizaremos un conjunto de datos muy popular llamado CIFAR-10. CIFAR-10 es un conjunto de datos que consiste en 60.000 imagenes a color de 32x32 agrupadas en 10 clases, con 6000 imagenes cada una. Hay alrededor de 50000 imagenes para entrenamiento y 10000 para testing.\n",
        "\n",
        "Las categorias son:\n",
        "\n",
        "* airplane\n",
        "* automobile\n",
        "* bird\n",
        "* cat\n",
        "* deer\n",
        "* dog\n",
        "* frog\n",
        "* horse\n",
        "* ship\n",
        "* truck"
      ]
    },
    {
      "cell_type": "markdown",
      "metadata": {
        "id": "Ehq4pYRGCwpu"
      },
      "source": [
        "Podemos cargar este conjunto de datos facilmente utilizando `datasets`:"
      ]
    },
    {
      "cell_type": "code",
      "execution_count": 4,
      "metadata": {
        "colab": {
          "base_uri": "https://localhost:8080/"
        },
        "gather": {
          "logged": 1683473835319
        },
        "id": "-ToQd6ybDfef",
        "outputId": "49c7239b-704a-479e-ef80-cee8d7e3e7c3"
      },
      "outputs": [
        {
          "output_type": "stream",
          "name": "stderr",
          "text": [
            "/usr/local/lib/python3.11/dist-packages/huggingface_hub/utils/_auth.py:94: UserWarning: \n",
            "The secret `HF_TOKEN` does not exist in your Colab secrets.\n",
            "To authenticate with the Hugging Face Hub, create a token in your settings tab (https://huggingface.co/settings/tokens), set it as secret in your Google Colab and restart your session.\n",
            "You will be able to reuse this secret in all of your notebooks.\n",
            "Please note that authentication is recommended but still optional to access public models or datasets.\n",
            "  warnings.warn(\n"
          ]
        },
        {
          "output_type": "stream",
          "name": "stdout",
          "text": [
            "{'img': <PIL.PngImagePlugin.PngImageFile image mode=RGB size=32x32 at 0x7A1DB001C350>, 'label': 0}\n",
            "{'img': <PIL.PngImagePlugin.PngImageFile image mode=RGB size=32x32 at 0x7A1DA3F42ED0>, 'label': 3}\n"
          ]
        }
      ],
      "source": [
        "from datasets import load_dataset\n",
        "\n",
        "# Cargar el conjunto de datos CIFAR-10\n",
        "dataset = load_dataset(\"cifar10\")\n",
        "\n",
        "# Ver el conjunto de entrenamiento y prueba\n",
        "train_ds = dataset[\"train\"]\n",
        "test_ds = dataset[\"test\"]\n",
        "\n",
        "# Imprimir las primeras muestras de los datos\n",
        "print(train_ds[0])\n",
        "print(test_ds[0])"
      ]
    },
    {
      "cell_type": "markdown",
      "metadata": {
        "id": "CvZJJJrrlS6p"
      },
      "source": [
        "Divieremos el conjunto de datos de entrenamiento en 2 subconjuntos: uno de entrenamiento (90%) y otro de validación (10%):"
      ]
    },
    {
      "cell_type": "code",
      "execution_count": 5,
      "metadata": {
        "gather": {
          "logged": 1683475587861
        },
        "id": "pl6tmETmDfei"
      },
      "outputs": [],
      "source": [
        "splits = train_ds.train_test_split(test_size=0.1)\n",
        "train_ds = splits['train']\n",
        "val_ds = splits['test']"
      ]
    },
    {
      "cell_type": "markdown",
      "metadata": {
        "id": "SKUeGV_alc8y"
      },
      "source": [
        "Veamos algunos detalles del conjunto de datos:"
      ]
    },
    {
      "cell_type": "code",
      "execution_count": 6,
      "metadata": {
        "colab": {
          "base_uri": "https://localhost:8080/"
        },
        "gather": {
          "logged": 1683475590500
        },
        "id": "hUNrdJoWGIgv",
        "outputId": "465be219-b412-4916-d10d-029363c5bae5"
      },
      "outputs": [
        {
          "output_type": "execute_result",
          "data": {
            "text/plain": [
              "Dataset({\n",
              "    features: ['img', 'label'],\n",
              "    num_rows: 45000\n",
              "})"
            ]
          },
          "metadata": {},
          "execution_count": 6
        }
      ],
      "source": [
        "train_ds"
      ]
    },
    {
      "cell_type": "code",
      "execution_count": 7,
      "metadata": {
        "colab": {
          "base_uri": "https://localhost:8080/"
        },
        "gather": {
          "logged": 1683475592356
        },
        "id": "avsOTtLoGL7C",
        "outputId": "39032304-7be2-4a1c-8059-ec87bbf0eb6b"
      },
      "outputs": [
        {
          "output_type": "execute_result",
          "data": {
            "text/plain": [
              "{'img': Image(mode=None, decode=True, id=None),\n",
              " 'label': ClassLabel(names=['airplane', 'automobile', 'bird', 'cat', 'deer', 'dog', 'frog', 'horse', 'ship', 'truck'], id=None)}"
            ]
          },
          "metadata": {},
          "execution_count": 7
        }
      ],
      "source": [
        "train_ds.features"
      ]
    },
    {
      "cell_type": "markdown",
      "metadata": {
        "id": "StbfaIWWDfel"
      },
      "source": [
        "Veamos algunos ejemplos:"
      ]
    },
    {
      "cell_type": "code",
      "execution_count": 8,
      "metadata": {
        "colab": {
          "base_uri": "https://localhost:8080/",
          "height": 241
        },
        "gather": {
          "logged": 1683475593538
        },
        "id": "tnIfBNDhDfem",
        "outputId": "1ed1c49e-fc5e-46ad-b307-53d1b4ca0e16"
      },
      "outputs": [
        {
          "output_type": "execute_result",
          "data": {
            "text/plain": [
              "<PIL.Image.Image image mode=RGB size=224x224>"
            ],
            "image/png": "[encoded data removed]",
            "image/jpeg": "[encoded data removed]"
          },
          "metadata": {},
          "execution_count": 8
        }
      ],
      "source": [
        "train_ds[0]['img'].resize((224, 224))"
      ]
    },
    {
      "cell_type": "markdown",
      "metadata": {
        "id": "2U9-305aDfeq"
      },
      "source": [
        "## Construcción de un modelo de clasificación utilizando ViT"
      ]
    },
    {
      "cell_type": "markdown",
      "metadata": {
        "id": "c2ydVcyxCwpx"
      },
      "source": [
        "Antes de comenzar necesitaremos verificar que tenemos el runtime correcto en nuestro ambiente. Esta tarea se beneficiará mucho de una GPU."
      ]
    },
    {
      "cell_type": "code",
      "execution_count": 9,
      "metadata": {
        "colab": {
          "base_uri": "https://localhost:8080/"
        },
        "gather": {
          "logged": 1683475617914
        },
        "id": "ABQ6LdkQDfeZ",
        "outputId": "63b46bfd-a298-4ca1-fe26-4f34b46e307a"
      },
      "outputs": [
        {
          "output_type": "stream",
          "name": "stdout",
          "text": [
            "GPUs disponibles:  1\n"
          ]
        }
      ],
      "source": [
        "import torch\n",
        "print(\"GPUs disponibles: \", torch.cuda.device_count())"
      ]
    },
    {
      "cell_type": "code",
      "execution_count": 10,
      "metadata": {
        "id": "rzJuaDIwvcSp"
      },
      "outputs": [],
      "source": [
        "model_name = \"google/vit-base-patch16-224-in21k\""
      ]
    },
    {
      "cell_type": "markdown",
      "metadata": {
        "id": "PziBXrSoDfeq"
      },
      "source": [
        "### Preprocesamiento\n",
        "\n",
        "Como es común, deberemos de ocuparnos del preprocesamiento de nuestras imágenes:"
      ]
    },
    {
      "cell_type": "markdown",
      "metadata": {
        "id": "3GRbTiI1vcSp"
      },
      "source": [
        "#### Labels\n",
        "\n",
        "Debemos de disponer de un mapeo entre las etiquetas y sus valores:\n",
        "\n",
        "    "
      ]
    },
    {
      "cell_type": "code",
      "execution_count": 11,
      "metadata": {
        "id": "meiGBhENvcSq"
      },
      "outputs": [],
      "source": [
        "label2id = { label:id for id, label in enumerate(test_ds.features[\"label\"].names) }\n",
        "id2label = { id:label for id, label in enumerate(test_ds.features[\"label\"].names) }"
      ]
    },
    {
      "cell_type": "markdown",
      "metadata": {
        "id": "M0v-psEHGvKO"
      },
      "source": [
        "#### Tamaño y cantidad de parches\n",
        "\n",
        "Los transformers esperan recibir cada imagen con una resolución específica y una cantidad de parches particular. Esta tarea se puede realizar utilizando el concepto de `processor` en `transformers`.\n",
        "\n",
        "Este tipo de components preprocesan los datos antes de ser enviados al modelo que los procesará. En este caso, utilizaremos el `processor` associado con un modelo en particular, `google/vit-base-patch16-224-in21k`. Notar como en el nombre está codificado el tamaño de los parches (16x16) y la resolución de las imágenes (224x224)."
      ]
    },
    {
      "cell_type": "code",
      "execution_count": 12,
      "metadata": {
        "gather": {
          "logged": 1683475622887
        },
        "id": "vHeC0R_9Gho7"
      },
      "outputs": [],
      "source": [
        "from transformers import ViTImageProcessor\n",
        "\n",
        "processor = ViTImageProcessor.from_pretrained(model_name)"
      ]
    },
    {
      "cell_type": "markdown",
      "metadata": {
        "id": "r3qhDhbkH5PR"
      },
      "source": [
        "Este componente también realizará normalización y estandarización, dos operaciones que típicamente realizamos en visión por computadora."
      ]
    },
    {
      "cell_type": "markdown",
      "metadata": {
        "id": "zzKx7UvnlxdY"
      },
      "source": [
        "Generaremos una función que toma un ejemplo del conjunto de datos y aplica nuestro `processor` de forma que devuelve los pixeles preprocesados y su etiqueta correspondiente:"
      ]
    },
    {
      "cell_type": "code",
      "execution_count": 13,
      "metadata": {
        "gather": {
          "logged": 1683475625648
        },
        "id": "yyqDpzBsq69f"
      },
      "outputs": [],
      "source": [
        "def process_example(example):\n",
        "    inputs = processor(example['img'], return_tensors='pt')\n",
        "    inputs['labels'] = example['label']\n",
        "\n",
        "    return inputs"
      ]
    },
    {
      "cell_type": "markdown",
      "metadata": {
        "id": "02_EDm4Jl8wW"
      },
      "source": [
        "Veamos como funciona la función con un ejemplo:"
      ]
    },
    {
      "cell_type": "code",
      "execution_count": 14,
      "metadata": {
        "colab": {
          "base_uri": "https://localhost:8080/"
        },
        "gather": {
          "logged": 1683475628639
        },
        "id": "uykxbmEircP0",
        "outputId": "61f8dac1-5252-49de-f494-fc75b96afa43"
      },
      "outputs": [
        {
          "output_type": "execute_result",
          "data": {
            "text/plain": [
              "{'pixel_values': tensor([[[[ 0.9373,  0.9373,  0.9373,  ...,  0.9843,  0.9843,  0.9843],\n",
              "          [ 0.9373,  0.9373,  0.9373,  ...,  0.9843,  0.9843,  0.9843],\n",
              "          [ 0.9373,  0.9373,  0.9373,  ...,  0.9843,  0.9843,  0.9843],\n",
              "          ...,\n",
              "          [-0.1059, -0.1059, -0.1059,  ..., -0.7725, -0.7725, -0.7725],\n",
              "          [-0.1059, -0.1059, -0.1059,  ..., -0.7725, -0.7725, -0.7725],\n",
              "          [-0.1059, -0.1059, -0.1059,  ..., -0.7725, -0.7725, -0.7725]],\n",
              "\n",
              "         [[ 0.9294,  0.9294,  0.9294,  ...,  0.9843,  0.9843,  0.9843],\n",
              "          [ 0.9294,  0.9294,  0.9294,  ...,  0.9843,  0.9843,  0.9843],\n",
              "          [ 0.9294,  0.9294,  0.9294,  ...,  0.9843,  0.9843,  0.9843],\n",
              "          ...,\n",
              "          [-0.1059, -0.1059, -0.1059,  ..., -0.6863, -0.6863, -0.6863],\n",
              "          [-0.1059, -0.1059, -0.1059,  ..., -0.6863, -0.6863, -0.6863],\n",
              "          [-0.1059, -0.1059, -0.1059,  ..., -0.6863, -0.6863, -0.6863]],\n",
              "\n",
              "         [[ 0.8275,  0.8275,  0.8275,  ...,  0.9843,  0.9843,  0.9843],\n",
              "          [ 0.8275,  0.8275,  0.8275,  ...,  0.9843,  0.9843,  0.9843],\n",
              "          [ 0.8275,  0.8275,  0.8275,  ...,  0.9843,  0.9843,  0.9843],\n",
              "          ...,\n",
              "          [-0.1529, -0.1529, -0.1529,  ..., -0.7176, -0.7176, -0.7176],\n",
              "          [-0.1529, -0.1529, -0.1529,  ..., -0.7176, -0.7176, -0.7176],\n",
              "          [-0.1529, -0.1529, -0.1529,  ..., -0.7176, -0.7176, -0.7176]]]]), 'labels': 3}"
            ]
          },
          "metadata": {},
          "execution_count": 14
        }
      ],
      "source": [
        "example = process_example(train_ds[0])\n",
        "example"
      ]
    },
    {
      "cell_type": "markdown",
      "metadata": {
        "id": "X-sffkR2mJPr"
      },
      "source": [
        "Es útil ver las dimensiones de nuestros datos:"
      ]
    },
    {
      "cell_type": "code",
      "execution_count": 15,
      "metadata": {
        "colab": {
          "base_uri": "https://localhost:8080/"
        },
        "gather": {
          "logged": 1683475631591
        },
        "id": "5umUYzWRmE0W",
        "outputId": "6a6efcab-ca6f-40f5-e36a-d9a4f5e0ee8a"
      },
      "outputs": [
        {
          "output_type": "execute_result",
          "data": {
            "text/plain": [
              "torch.Size([1, 3, 224, 224])"
            ]
          },
          "metadata": {},
          "execution_count": 15
        }
      ],
      "source": [
        "example[\"pixel_values\"].shape"
      ]
    },
    {
      "cell_type": "markdown",
      "metadata": {
        "id": "K1agCtwUmVbN"
      },
      "source": [
        "#### Aplicando las transformaciones al conjunto de datos\n",
        "\n",
        "Apliquemos las transformaciones a todas las instancias:"
      ]
    },
    {
      "cell_type": "code",
      "execution_count": 16,
      "metadata": {
        "gather": {
          "logged": 1683475633094
        },
        "id": "wbfSqmO4rp_d"
      },
      "outputs": [],
      "source": [
        "prepared_train_ds = train_ds.with_transform(process_example)\n",
        "prepared_val_ds = val_ds.with_transform(process_example)"
      ]
    },
    {
      "cell_type": "markdown",
      "metadata": {
        "id": "LkqYRbxAjwIh"
      },
      "source": [
        "### Modelado\n",
        "\n",
        "Utilizaremos el modelo `ViTForImageClassification`, el cual agrega una capa de clasificación (`torch.nn.Linear`) sobre el token `[CLS]` que se agrega al final de la secuencia de parches en el modelo preentrenado de `ViTModel`. El último *hidden state* de este token puede ser considerado como una repreentación de la imágen completa. Configuraremos el número de clases (units en la última capa):"
      ]
    },
    {
      "cell_type": "code",
      "execution_count": 17,
      "metadata": {
        "colab": {
          "base_uri": "https://localhost:8080/"
        },
        "gather": {
          "logged": 1683475640520
        },
        "id": "wpNrIM7pjtYr",
        "outputId": "64d55fe1-f645-4c5f-879d-621352a18e70"
      },
      "outputs": [
        {
          "output_type": "stream",
          "name": "stderr",
          "text": [
            "Some weights of ViTForImageClassification were not initialized from the model checkpoint at google/vit-base-patch16-224-in21k and are newly initialized: ['classifier.bias', 'classifier.weight']\n",
            "You should probably TRAIN this model on a down-stream task to be able to use it for predictions and inference.\n"
          ]
        }
      ],
      "source": [
        "from transformers import ViTForImageClassification\n",
        "\n",
        "model = ViTForImageClassification.from_pretrained(model_name, num_labels=10, top_k=1, id2label=id2label, label2id=label2id).to('cuda')"
      ]
    },
    {
      "cell_type": "markdown",
      "metadata": {
        "id": "IS12IfstmjUp"
      },
      "source": [
        "### Entrenamiento\n",
        "\n",
        "Configuraremos nuestros parámeteros de entrenamiento de la siguiente forma:"
      ]
    },
    {
      "cell_type": "code",
      "source": [
        "!pip install --upgrade transformers"
      ],
      "metadata": {
        "colab": {
          "base_uri": "https://localhost:8080/"
        },
        "id": "ZkZmLBFtjKzm",
        "outputId": "1e7746b1-f241-4066-9605-ad502e074477"
      },
      "execution_count": 18,
      "outputs": [
        {
          "output_type": "stream",
          "name": "stdout",
          "text": [
            "Requirement already satisfied: transformers in /usr/local/lib/python3.11/dist-packages (4.52.3)\n",
            "Requirement already satisfied: filelock in /usr/local/lib/python3.11/dist-packages (from transformers) (3.18.0)\n",
            "Requirement already satisfied: huggingface-hub<1.0,>=0.30.0 in /usr/local/lib/python3.11/dist-packages (from transformers) (0.31.2)\n",
            "Requirement already satisfied: numpy>=1.17 in /usr/local/lib/python3.11/dist-packages (from transformers) (2.0.2)\n",
            "Requirement already satisfied: packaging>=20.0 in /usr/local/lib/python3.11/dist-packages (from transformers) (24.2)\n",
            "Requirement already satisfied: pyyaml>=5.1 in /usr/local/lib/python3.11/dist-packages (from transformers) (6.0.2)\n",
            "Requirement already satisfied: regex!=2019.12.17 in /usr/local/lib/python3.11/dist-packages (from transformers) (2024.11.6)\n",
            "Requirement already satisfied: requests in /usr/local/lib/python3.11/dist-packages (from transformers) (2.32.3)\n",
            "Requirement already satisfied: tokenizers<0.22,>=0.21 in /usr/local/lib/python3.11/dist-packages (from transformers) (0.21.1)\n",
            "Requirement already satisfied: safetensors>=0.4.3 in /usr/local/lib/python3.11/dist-packages (from transformers) (0.5.3)\n",
            "Requirement already satisfied: tqdm>=4.27 in /usr/local/lib/python3.11/dist-packages (from transformers) (4.67.1)\n",
            "Requirement already satisfied: fsspec>=2023.5.0 in /usr/local/lib/python3.11/dist-packages (from huggingface-hub<1.0,>=0.30.0->transformers) (2025.3.0)\n",
            "Requirement already satisfied: typing-extensions>=3.7.4.3 in /usr/local/lib/python3.11/dist-packages (from huggingface-hub<1.0,>=0.30.0->transformers) (4.13.2)\n",
            "Requirement already satisfied: charset-normalizer<4,>=2 in /usr/local/lib/python3.11/dist-packages (from requests->transformers) (3.4.2)\n",
            "Requirement already satisfied: idna<4,>=2.5 in /usr/local/lib/python3.11/dist-packages (from requests->transformers) (3.10)\n",
            "Requirement already satisfied: urllib3<3,>=1.21.1 in /usr/local/lib/python3.11/dist-packages (from requests->transformers) (2.4.0)\n",
            "Requirement already satisfied: certifi>=2017.4.17 in /usr/local/lib/python3.11/dist-packages (from requests->transformers) (2025.4.26)\n"
          ]
        }
      ]
    },
    {
      "cell_type": "code",
      "source": [
        "import transformers\n",
        "print(transformers.__version__)"
      ],
      "metadata": {
        "colab": {
          "base_uri": "https://localhost:8080/"
        },
        "id": "0pyYzUaQjRFW",
        "outputId": "959285e8-86d1-4048-ddb3-0c8b6c6a3c6b"
      },
      "execution_count": 19,
      "outputs": [
        {
          "output_type": "stream",
          "name": "stdout",
          "text": [
            "4.52.3\n"
          ]
        }
      ]
    },
    {
      "cell_type": "code",
      "source": [
        "from transformers import TrainingArguments, Trainer\n",
        "from transformers import default_data_collator\n",
        "\n",
        "args = TrainingArguments(\n",
        "    \"test-cifar-10\",\n",
        "    save_strategy=\"epoch\",  # Guarda el modelo al final de cada época\n",
        "    eval_strategy=\"epoch\",   # Evalúa el modelo al final de cada época  <-- CAMBIO AQUÍ\n",
        "    optim=\"adamw_torch\",\n",
        "    learning_rate=2e-5,\n",
        "    per_device_train_batch_size=64,\n",
        "    per_device_eval_batch_size=64,\n",
        "    num_train_epochs=1,\n",
        "    weight_decay=0.01,\n",
        "    load_best_model_at_end=True,\n",
        "    logging_dir='logs',\n",
        "    remove_unused_columns=False,\n",
        ")"
      ],
      "metadata": {
        "id": "NHFNpV3fkiGm"
      },
      "execution_count": 29,
      "outputs": []
    },
    {
      "cell_type": "markdown",
      "metadata": {
        "id": "Aq7uolYHmuad"
      },
      "source": [
        "Configuramos el proceso de entrenamiento del modelo:"
      ]
    },
    {
      "cell_type": "code",
      "execution_count": 30,
      "metadata": {
        "gather": {
          "logged": 1683475696543
        },
        "id": "ByvyWUtVk3iH"
      },
      "outputs": [],
      "source": [
        "trainer = Trainer(\n",
        "    model,\n",
        "    args,\n",
        "    data_collator=default_data_collator,\n",
        "    train_dataset=prepared_train_ds,\n",
        "    eval_dataset=prepared_val_ds,\n",
        ")"
      ]
    },
    {
      "cell_type": "code",
      "execution_count": null,
      "metadata": {
        "colab": {
          "base_uri": "https://localhost:8080/",
          "height": 75
        },
        "gather": {
          "logged": 1683475943222
        },
        "id": "8y-1nfGnlNGs",
        "outputId": "40b612f2-0827-4a88-853b-8744576dd60f"
      },
      "outputs": [
        {
          "output_type": "display_data",
          "data": {
            "text/plain": [
              "<IPython.core.display.HTML object>"
            ],
            "text/html": [
              "\n",
              "    <div>\n",
              "      \n",
              "      <progress value='24' max='704' style='width:300px; height:20px; vertical-align: middle;'></progress>\n",
              "      [ 24/704 00:50 < 25:58, 0.44 it/s, Epoch 0.03/1]\n",
              "    </div>\n",
              "    <table border=\"1\" class=\"dataframe\">\n",
              "  <thead>\n",
              " <tr style=\"text-align: left;\">\n",
              "      <th>Epoch</th>\n",
              "      <th>Training Loss</th>\n",
              "      <th>Validation Loss</th>\n",
              "    </tr>\n",
              "  </thead>\n",
              "  <tbody>\n",
              "  </tbody>\n",
              "</table><p>"
            ]
          },
          "metadata": {}
        }
      ],
      "source": [
        "history = trainer.train()"
      ]
    },
    {
      "cell_type": "markdown",
      "metadata": {
        "id": "6-GvPFZ6mzST"
      },
      "source": [
        "### Evaluación\n",
        "\n",
        "Una vez que el modelo esta entrenado, veamos como se comporta en el conjunto de evaluación:"
      ]
    },
    {
      "cell_type": "code",
      "execution_count": null,
      "metadata": {
        "id": "OW0RJrJIhEPe"
      },
      "outputs": [],
      "source": [
        "prepared_test_ds = test_ds.with_transform(process_example)"
      ]
    },
    {
      "cell_type": "code",
      "execution_count": null,
      "metadata": {
        "id": "CypydNpEg3RI"
      },
      "outputs": [],
      "source": [
        "predictions = trainer.predict(test_dataset=prepared_test_ds).predictions"
      ]
    },
    {
      "cell_type": "markdown",
      "metadata": {
        "id": "xXlEdUA5m6AS"
      },
      "source": [
        "Obtenemos las clases asociadas:"
      ]
    },
    {
      "cell_type": "code",
      "execution_count": null,
      "metadata": {
        "id": "dJtsWqLfhA6z"
      },
      "outputs": [],
      "source": [
        "import numpy as np\n",
        "\n",
        "predictions = np.argmax(predictions, axis=1)"
      ]
    },
    {
      "cell_type": "markdown",
      "metadata": {
        "id": "BH4P7RDDm89K"
      },
      "source": [
        "Creamos un reporte de clasificación:"
      ]
    },
    {
      "cell_type": "code",
      "execution_count": null,
      "metadata": {
        "id": "fHvlzQ_OhlIz"
      },
      "outputs": [],
      "source": [
        "from sklearn.metrics import classification_report\n",
        "\n",
        "print(classification_report(test_ds['label'], predictions, target_names=test_ds.features[\"label\"].names))"
      ]
    },
    {
      "cell_type": "markdown",
      "metadata": {
        "id": "8DLq4e_jwUrE"
      },
      "source": [
        "### Utilizando un pipeline\n",
        "\n",
        "Podemos guardar los componentes de este modelo para luego construir un pipeline con el mismo:"
      ]
    },
    {
      "cell_type": "code",
      "execution_count": null,
      "metadata": {
        "id": "KDYooXx6wizc"
      },
      "outputs": [],
      "source": [
        "model_name = \"vit_cifar10\"\n",
        "\n",
        "trainer.save_model(model_name)\n",
        "processor.save_pretrained(model_name)"
      ]
    },
    {
      "cell_type": "code",
      "execution_count": null,
      "metadata": {
        "id": "Ee__JGFdwYdz"
      },
      "outputs": [],
      "source": [
        "from transformers import pipeline\n",
        "\n",
        "classifier = pipeline(\"image-classification\", model=\"vit_cifar10\", image_processor=\"vit_cifar10\", top_k=1, device=0)"
      ]
    },
    {
      "cell_type": "code",
      "execution_count": null,
      "metadata": {
        "id": "NEvmc6b-vcS0"
      },
      "outputs": [],
      "source": [
        "classifier(train_ds[\"img\"][:3])"
      ]
    }
  ],
  "metadata": {
    "accelerator": "GPU",
    "colab": {
      "name": "vit_classification.ipynb",
      "provenance": [],
      "toc_visible": true,
      "include_colab_link": true
    },
    "kernel_info": {
      "name": "huggingface-env"
    },
    "kernelspec": {
      "display_name": "HuggingFace W/Torch",
      "language": "python",
      "name": "huggingface-env"
    },
    "language_info": {
      "codemirror_mode": {
        "name": "ipython",
        "version": 3
      },
      "file_extension": ".py",
      "mimetype": "text/x-python",
      "name": "python",
      "nbconvert_exporter": "python",
      "pygments_lexer": "ipython3",
      "version": "3.8.5"
    },
    "microsoft": {
      "ms_spell_check": {
        "ms_spell_check_language": "en"
      }
    },
    "nteract": {
      "version": "nteract-front-end@1.0.0"
    }
  },
  "nbformat": 4,
  "nbformat_minor": 0
}